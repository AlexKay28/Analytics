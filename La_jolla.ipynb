{
 "cells": [
  {
   "cell_type": "markdown",
   "metadata": {},
   "source": [
    "### Kaygorodov A. MEPHI 2020 29.05.2020\n",
    "\n",
    "\n",
    "## Time Series and Group Operations\n",
    "Complete the tasks below. Please turn in a single Jupyter notebook named 8_first_last.ipynb (substitute your first and last name). Please run Kernel > Restart & Run All on your notebook before turning in.\n",
    "\n",
    "Precipitation in La Jolla\n",
    "For this assignment, we will use a file containing daily precipitation data in La Jolla from February 2009 to November 2018, which were downloaded from NOAA using \"standard\" (imperial) units (inches for precipitation, feet for elevation). Download the file from GitHub."
   ]
  },
  {
   "cell_type": "code",
   "execution_count": 1,
   "metadata": {},
   "outputs": [],
   "source": [
    "import numpy as np\n",
    "import pandas as pd\n",
    "import seaborn as sns\n",
    "import matplotlib.pyplot as plt\n",
    "from scipy import stats"
   ]
  },
  {
   "cell_type": "markdown",
   "metadata": {},
   "source": [
    "#### A. Set up the file\n",
    "- Import the CSV file as a Pandas DataFrame with default header and index.\n",
    "- Change the 'DATE' column to timestamps using pd.datetime(). Alternatively, import the CSV file with parse_dates set to the columns you want to parse as datetime.\n",
    "- What was the maximum daily precipitation (in inches) during this time period and when was it?"
   ]
  },
  {
   "cell_type": "code",
   "execution_count": 2,
   "metadata": {},
   "outputs": [],
   "source": [
    "df = pd.read_csv('la_jolla_precip_daily.csv.1', parse_dates=['DATE'])"
   ]
  },
  {
   "cell_type": "code",
   "execution_count": 3,
   "metadata": {},
   "outputs": [
    {
     "data": {
      "text/html": [
       "<div>\n",
       "<style scoped>\n",
       "    .dataframe tbody tr th:only-of-type {\n",
       "        vertical-align: middle;\n",
       "    }\n",
       "\n",
       "    .dataframe tbody tr th {\n",
       "        vertical-align: top;\n",
       "    }\n",
       "\n",
       "    .dataframe thead th {\n",
       "        text-align: right;\n",
       "    }\n",
       "</style>\n",
       "<table border=\"1\" class=\"dataframe\">\n",
       "  <thead>\n",
       "    <tr style=\"text-align: right;\">\n",
       "      <th></th>\n",
       "      <th>STATION</th>\n",
       "      <th>NAME</th>\n",
       "      <th>LATITUDE</th>\n",
       "      <th>LONGITUDE</th>\n",
       "      <th>ELEVATION</th>\n",
       "      <th>DATE</th>\n",
       "      <th>PRCP</th>\n",
       "      <th>PRCP_ATTRIBUTES</th>\n",
       "      <th>SNOW</th>\n",
       "      <th>SNOW_ATTRIBUTES</th>\n",
       "    </tr>\n",
       "  </thead>\n",
       "  <tbody>\n",
       "    <tr>\n",
       "      <th>0</th>\n",
       "      <td>US1CASD0030</td>\n",
       "      <td>LA JOLLA 2.1 SE, CA US</td>\n",
       "      <td>32.8257</td>\n",
       "      <td>-117.2501</td>\n",
       "      <td>149.7</td>\n",
       "      <td>2009-02-18</td>\n",
       "      <td>0.00</td>\n",
       "      <td>,,N</td>\n",
       "      <td>0.0</td>\n",
       "      <td>,,N</td>\n",
       "    </tr>\n",
       "    <tr>\n",
       "      <th>2241</th>\n",
       "      <td>US1CASD0030</td>\n",
       "      <td>LA JOLLA 2.1 SE, CA US</td>\n",
       "      <td>32.8257</td>\n",
       "      <td>-117.2501</td>\n",
       "      <td>149.7</td>\n",
       "      <td>2015-05-06</td>\n",
       "      <td>0.00</td>\n",
       "      <td>,,N</td>\n",
       "      <td>0.0</td>\n",
       "      <td>,,N</td>\n",
       "    </tr>\n",
       "    <tr>\n",
       "      <th>2242</th>\n",
       "      <td>US1CASD0030</td>\n",
       "      <td>LA JOLLA 2.1 SE, CA US</td>\n",
       "      <td>32.8257</td>\n",
       "      <td>-117.2501</td>\n",
       "      <td>149.7</td>\n",
       "      <td>2015-05-07</td>\n",
       "      <td>0.00</td>\n",
       "      <td>T,,N</td>\n",
       "      <td>NaN</td>\n",
       "      <td>NaN</td>\n",
       "    </tr>\n",
       "    <tr>\n",
       "      <th>2245</th>\n",
       "      <td>US1CASD0030</td>\n",
       "      <td>LA JOLLA 2.1 SE, CA US</td>\n",
       "      <td>32.8257</td>\n",
       "      <td>-117.2501</td>\n",
       "      <td>149.7</td>\n",
       "      <td>2015-05-10</td>\n",
       "      <td>0.00</td>\n",
       "      <td>,,N</td>\n",
       "      <td>0.0</td>\n",
       "      <td>,,N</td>\n",
       "    </tr>\n",
       "    <tr>\n",
       "      <th>2246</th>\n",
       "      <td>US1CASD0030</td>\n",
       "      <td>LA JOLLA 2.1 SE, CA US</td>\n",
       "      <td>32.8257</td>\n",
       "      <td>-117.2501</td>\n",
       "      <td>149.7</td>\n",
       "      <td>2015-05-11</td>\n",
       "      <td>0.00</td>\n",
       "      <td>,,N</td>\n",
       "      <td>0.0</td>\n",
       "      <td>,,N</td>\n",
       "    </tr>\n",
       "    <tr>\n",
       "      <th>...</th>\n",
       "      <td>...</td>\n",
       "      <td>...</td>\n",
       "      <td>...</td>\n",
       "      <td>...</td>\n",
       "      <td>...</td>\n",
       "      <td>...</td>\n",
       "      <td>...</td>\n",
       "      <td>...</td>\n",
       "      <td>...</td>\n",
       "      <td>...</td>\n",
       "    </tr>\n",
       "    <tr>\n",
       "      <th>3211</th>\n",
       "      <td>US1CASD0030</td>\n",
       "      <td>LA JOLLA 2.1 SE, CA US</td>\n",
       "      <td>32.8257</td>\n",
       "      <td>-117.2501</td>\n",
       "      <td>149.7</td>\n",
       "      <td>2018-01-09</td>\n",
       "      <td>1.55</td>\n",
       "      <td>,,N</td>\n",
       "      <td>NaN</td>\n",
       "      <td>NaN</td>\n",
       "    </tr>\n",
       "    <tr>\n",
       "      <th>290</th>\n",
       "      <td>US1CASD0030</td>\n",
       "      <td>LA JOLLA 2.1 SE, CA US</td>\n",
       "      <td>32.8257</td>\n",
       "      <td>-117.2501</td>\n",
       "      <td>149.7</td>\n",
       "      <td>2009-12-08</td>\n",
       "      <td>2.00</td>\n",
       "      <td>,,N</td>\n",
       "      <td>NaN</td>\n",
       "      <td>NaN</td>\n",
       "    </tr>\n",
       "    <tr>\n",
       "      <th>2895</th>\n",
       "      <td>US1CASD0030</td>\n",
       "      <td>LA JOLLA 2.1 SE, CA US</td>\n",
       "      <td>32.8257</td>\n",
       "      <td>-117.2501</td>\n",
       "      <td>149.7</td>\n",
       "      <td>2017-02-18</td>\n",
       "      <td>2.02</td>\n",
       "      <td>,,N</td>\n",
       "      <td>NaN</td>\n",
       "      <td>NaN</td>\n",
       "    </tr>\n",
       "    <tr>\n",
       "      <th>2905</th>\n",
       "      <td>US1CASD0030</td>\n",
       "      <td>LA JOLLA 2.1 SE, CA US</td>\n",
       "      <td>32.8257</td>\n",
       "      <td>-117.2501</td>\n",
       "      <td>149.7</td>\n",
       "      <td>2017-02-28</td>\n",
       "      <td>2.45</td>\n",
       "      <td>,,N</td>\n",
       "      <td>NaN</td>\n",
       "      <td>NaN</td>\n",
       "    </tr>\n",
       "    <tr>\n",
       "      <th>663</th>\n",
       "      <td>US1CASD0030</td>\n",
       "      <td>LA JOLLA 2.1 SE, CA US</td>\n",
       "      <td>32.8257</td>\n",
       "      <td>-117.2501</td>\n",
       "      <td>149.7</td>\n",
       "      <td>2010-12-22</td>\n",
       "      <td>3.35</td>\n",
       "      <td>,,N</td>\n",
       "      <td>NaN</td>\n",
       "      <td>NaN</td>\n",
       "    </tr>\n",
       "  </tbody>\n",
       "</table>\n",
       "<p>3514 rows × 10 columns</p>\n",
       "</div>"
      ],
      "text/plain": [
       "          STATION                    NAME  LATITUDE  LONGITUDE  ELEVATION  \\\n",
       "0     US1CASD0030  LA JOLLA 2.1 SE, CA US   32.8257  -117.2501      149.7   \n",
       "2241  US1CASD0030  LA JOLLA 2.1 SE, CA US   32.8257  -117.2501      149.7   \n",
       "2242  US1CASD0030  LA JOLLA 2.1 SE, CA US   32.8257  -117.2501      149.7   \n",
       "2245  US1CASD0030  LA JOLLA 2.1 SE, CA US   32.8257  -117.2501      149.7   \n",
       "2246  US1CASD0030  LA JOLLA 2.1 SE, CA US   32.8257  -117.2501      149.7   \n",
       "...           ...                     ...       ...        ...        ...   \n",
       "3211  US1CASD0030  LA JOLLA 2.1 SE, CA US   32.8257  -117.2501      149.7   \n",
       "290   US1CASD0030  LA JOLLA 2.1 SE, CA US   32.8257  -117.2501      149.7   \n",
       "2895  US1CASD0030  LA JOLLA 2.1 SE, CA US   32.8257  -117.2501      149.7   \n",
       "2905  US1CASD0030  LA JOLLA 2.1 SE, CA US   32.8257  -117.2501      149.7   \n",
       "663   US1CASD0030  LA JOLLA 2.1 SE, CA US   32.8257  -117.2501      149.7   \n",
       "\n",
       "           DATE  PRCP PRCP_ATTRIBUTES  SNOW SNOW_ATTRIBUTES  \n",
       "0    2009-02-18  0.00             ,,N   0.0             ,,N  \n",
       "2241 2015-05-06  0.00             ,,N   0.0             ,,N  \n",
       "2242 2015-05-07  0.00            T,,N   NaN             NaN  \n",
       "2245 2015-05-10  0.00             ,,N   0.0             ,,N  \n",
       "2246 2015-05-11  0.00             ,,N   0.0             ,,N  \n",
       "...         ...   ...             ...   ...             ...  \n",
       "3211 2018-01-09  1.55             ,,N   NaN             NaN  \n",
       "290  2009-12-08  2.00             ,,N   NaN             NaN  \n",
       "2895 2017-02-18  2.02             ,,N   NaN             NaN  \n",
       "2905 2017-02-28  2.45             ,,N   NaN             NaN  \n",
       "663  2010-12-22  3.35             ,,N   NaN             NaN  \n",
       "\n",
       "[3514 rows x 10 columns]"
      ]
     },
     "execution_count": 3,
     "metadata": {},
     "output_type": "execute_result"
    }
   ],
   "source": [
    "df.sort_values(['PRCP'])"
   ]
  },
  {
   "cell_type": "markdown",
   "metadata": {},
   "source": [
    "The maximum daily precipitation was in (22.12.2010) and equal to (3.35)"
   ]
  },
  {
   "cell_type": "markdown",
   "metadata": {},
   "source": [
    "#### B. Explore the dataset\n",
    "\n",
    "1. We don't need the columns 'SNOW' and 'SNOW_ATTRIBUTES' because there was no recorded snow in the dataset. Delete those columns \"in place\".\n",
    "\n",
    "2. Find out about the sampling stations. Notice that the column values are similar between rows except 'DATE' and 'PRCP'. Explore these other columns using three different commands (we may not have covered all of them yet, but they are easy to use and you can always google them):\n",
    "    - Use the value_counts() method for each of these columns: 'STATION', 'NAME', 'LATITUDE', 'LONGITUDE', and 'ELEVATION'. There should only be one cateogory for each calculation because all the data come from the same station. To see what output looks like for a more diverse series, use the value_counts() method on 'PRCP' and 'PRCP_ATTRIBUTES'.\n",
    "    - Make a DataFrame with just the columns 'STATION', 'NAME', 'LATITUDE', 'LONGITUDE', and 'ELEVATION' and use the method drop_duplicates() to see all the unique combinations of values in those five columns.\n",
    "    - Create a groupby object using groupby('STATION'), then use the count() method on that groupby object to count the number of values for each station.\n",
    "\n",
    "3. Create columns for 'YEAR', 'MONTH', 'DAY', and 'DAY_OF_YEAR'. Hint: use attributes such as the .year attribute, or use a regular expression, with a list comprehension."
   ]
  },
  {
   "cell_type": "code",
   "execution_count": 4,
   "metadata": {},
   "outputs": [
    {
     "data": {
      "text/html": [
       "<div>\n",
       "<style scoped>\n",
       "    .dataframe tbody tr th:only-of-type {\n",
       "        vertical-align: middle;\n",
       "    }\n",
       "\n",
       "    .dataframe tbody tr th {\n",
       "        vertical-align: top;\n",
       "    }\n",
       "\n",
       "    .dataframe thead th {\n",
       "        text-align: right;\n",
       "    }\n",
       "</style>\n",
       "<table border=\"1\" class=\"dataframe\">\n",
       "  <thead>\n",
       "    <tr style=\"text-align: right;\">\n",
       "      <th></th>\n",
       "      <th>STATION</th>\n",
       "      <th>NAME</th>\n",
       "      <th>LATITUDE</th>\n",
       "      <th>LONGITUDE</th>\n",
       "      <th>ELEVATION</th>\n",
       "      <th>DATE</th>\n",
       "      <th>PRCP</th>\n",
       "      <th>PRCP_ATTRIBUTES</th>\n",
       "    </tr>\n",
       "  </thead>\n",
       "  <tbody>\n",
       "    <tr>\n",
       "      <th>0</th>\n",
       "      <td>US1CASD0030</td>\n",
       "      <td>LA JOLLA 2.1 SE, CA US</td>\n",
       "      <td>32.8257</td>\n",
       "      <td>-117.2501</td>\n",
       "      <td>149.7</td>\n",
       "      <td>2009-02-18</td>\n",
       "      <td>0.0</td>\n",
       "      <td>,,N</td>\n",
       "    </tr>\n",
       "    <tr>\n",
       "      <th>1</th>\n",
       "      <td>US1CASD0030</td>\n",
       "      <td>LA JOLLA 2.1 SE, CA US</td>\n",
       "      <td>32.8257</td>\n",
       "      <td>-117.2501</td>\n",
       "      <td>149.7</td>\n",
       "      <td>2009-02-19</td>\n",
       "      <td>0.0</td>\n",
       "      <td>,,N</td>\n",
       "    </tr>\n",
       "    <tr>\n",
       "      <th>2</th>\n",
       "      <td>US1CASD0030</td>\n",
       "      <td>LA JOLLA 2.1 SE, CA US</td>\n",
       "      <td>32.8257</td>\n",
       "      <td>-117.2501</td>\n",
       "      <td>149.7</td>\n",
       "      <td>2009-02-20</td>\n",
       "      <td>0.0</td>\n",
       "      <td>,,N</td>\n",
       "    </tr>\n",
       "    <tr>\n",
       "      <th>3</th>\n",
       "      <td>US1CASD0030</td>\n",
       "      <td>LA JOLLA 2.1 SE, CA US</td>\n",
       "      <td>32.8257</td>\n",
       "      <td>-117.2501</td>\n",
       "      <td>149.7</td>\n",
       "      <td>2009-02-21</td>\n",
       "      <td>0.0</td>\n",
       "      <td>,,N</td>\n",
       "    </tr>\n",
       "    <tr>\n",
       "      <th>4</th>\n",
       "      <td>US1CASD0030</td>\n",
       "      <td>LA JOLLA 2.1 SE, CA US</td>\n",
       "      <td>32.8257</td>\n",
       "      <td>-117.2501</td>\n",
       "      <td>149.7</td>\n",
       "      <td>2009-02-22</td>\n",
       "      <td>0.0</td>\n",
       "      <td>,,N</td>\n",
       "    </tr>\n",
       "    <tr>\n",
       "      <th>...</th>\n",
       "      <td>...</td>\n",
       "      <td>...</td>\n",
       "      <td>...</td>\n",
       "      <td>...</td>\n",
       "      <td>...</td>\n",
       "      <td>...</td>\n",
       "      <td>...</td>\n",
       "      <td>...</td>\n",
       "    </tr>\n",
       "    <tr>\n",
       "      <th>3509</th>\n",
       "      <td>US1CASD0030</td>\n",
       "      <td>LA JOLLA 2.1 SE, CA US</td>\n",
       "      <td>32.8257</td>\n",
       "      <td>-117.2501</td>\n",
       "      <td>149.7</td>\n",
       "      <td>2018-11-05</td>\n",
       "      <td>0.0</td>\n",
       "      <td>,,N</td>\n",
       "    </tr>\n",
       "    <tr>\n",
       "      <th>3510</th>\n",
       "      <td>US1CASD0030</td>\n",
       "      <td>LA JOLLA 2.1 SE, CA US</td>\n",
       "      <td>32.8257</td>\n",
       "      <td>-117.2501</td>\n",
       "      <td>149.7</td>\n",
       "      <td>2018-11-06</td>\n",
       "      <td>0.0</td>\n",
       "      <td>,,N</td>\n",
       "    </tr>\n",
       "    <tr>\n",
       "      <th>3511</th>\n",
       "      <td>US1CASD0030</td>\n",
       "      <td>LA JOLLA 2.1 SE, CA US</td>\n",
       "      <td>32.8257</td>\n",
       "      <td>-117.2501</td>\n",
       "      <td>149.7</td>\n",
       "      <td>2018-11-07</td>\n",
       "      <td>0.0</td>\n",
       "      <td>,,N</td>\n",
       "    </tr>\n",
       "    <tr>\n",
       "      <th>3512</th>\n",
       "      <td>US1CASD0030</td>\n",
       "      <td>LA JOLLA 2.1 SE, CA US</td>\n",
       "      <td>32.8257</td>\n",
       "      <td>-117.2501</td>\n",
       "      <td>149.7</td>\n",
       "      <td>2018-11-08</td>\n",
       "      <td>0.0</td>\n",
       "      <td>,,N</td>\n",
       "    </tr>\n",
       "    <tr>\n",
       "      <th>3513</th>\n",
       "      <td>US1CASD0030</td>\n",
       "      <td>LA JOLLA 2.1 SE, CA US</td>\n",
       "      <td>32.8257</td>\n",
       "      <td>-117.2501</td>\n",
       "      <td>149.7</td>\n",
       "      <td>2018-11-09</td>\n",
       "      <td>0.0</td>\n",
       "      <td>,,N</td>\n",
       "    </tr>\n",
       "  </tbody>\n",
       "</table>\n",
       "<p>3514 rows × 8 columns</p>\n",
       "</div>"
      ],
      "text/plain": [
       "          STATION                    NAME  LATITUDE  LONGITUDE  ELEVATION  \\\n",
       "0     US1CASD0030  LA JOLLA 2.1 SE, CA US   32.8257  -117.2501      149.7   \n",
       "1     US1CASD0030  LA JOLLA 2.1 SE, CA US   32.8257  -117.2501      149.7   \n",
       "2     US1CASD0030  LA JOLLA 2.1 SE, CA US   32.8257  -117.2501      149.7   \n",
       "3     US1CASD0030  LA JOLLA 2.1 SE, CA US   32.8257  -117.2501      149.7   \n",
       "4     US1CASD0030  LA JOLLA 2.1 SE, CA US   32.8257  -117.2501      149.7   \n",
       "...           ...                     ...       ...        ...        ...   \n",
       "3509  US1CASD0030  LA JOLLA 2.1 SE, CA US   32.8257  -117.2501      149.7   \n",
       "3510  US1CASD0030  LA JOLLA 2.1 SE, CA US   32.8257  -117.2501      149.7   \n",
       "3511  US1CASD0030  LA JOLLA 2.1 SE, CA US   32.8257  -117.2501      149.7   \n",
       "3512  US1CASD0030  LA JOLLA 2.1 SE, CA US   32.8257  -117.2501      149.7   \n",
       "3513  US1CASD0030  LA JOLLA 2.1 SE, CA US   32.8257  -117.2501      149.7   \n",
       "\n",
       "           DATE  PRCP PRCP_ATTRIBUTES  \n",
       "0    2009-02-18   0.0             ,,N  \n",
       "1    2009-02-19   0.0             ,,N  \n",
       "2    2009-02-20   0.0             ,,N  \n",
       "3    2009-02-21   0.0             ,,N  \n",
       "4    2009-02-22   0.0             ,,N  \n",
       "...         ...   ...             ...  \n",
       "3509 2018-11-05   0.0             ,,N  \n",
       "3510 2018-11-06   0.0             ,,N  \n",
       "3511 2018-11-07   0.0             ,,N  \n",
       "3512 2018-11-08   0.0             ,,N  \n",
       "3513 2018-11-09   0.0             ,,N  \n",
       "\n",
       "[3514 rows x 8 columns]"
      ]
     },
     "execution_count": 4,
     "metadata": {},
     "output_type": "execute_result"
    }
   ],
   "source": [
    "df.drop(['SNOW', 'SNOW_ATTRIBUTES'], inplace=True, axis=1)\n",
    "df"
   ]
  },
  {
   "cell_type": "code",
   "execution_count": 5,
   "metadata": {},
   "outputs": [
    {
     "name": "stdout",
     "output_type": "stream",
     "text": [
      "STATION\n",
      " US1CASD0030    3514\n",
      "Name: STATION, dtype: int64\n",
      "\n",
      "NAME\n",
      " LA JOLLA 2.1 SE, CA US    3514\n",
      "Name: NAME, dtype: int64\n",
      "\n",
      "LATITUDE\n",
      " 32.8257    3514\n",
      "Name: LATITUDE, dtype: int64\n",
      "\n",
      "LONGITUDE\n",
      " -117.2501    3514\n",
      "Name: LONGITUDE, dtype: int64\n",
      "\n",
      "ELEVATION\n",
      " 149.7    3514\n",
      "Name: ELEVATION, dtype: int64\n",
      "\n",
      "output for PRCP:\n",
      " 0.00    3011\n",
      "0.01     110\n",
      "0.02      68\n",
      "0.03      38\n",
      "0.04      25\n",
      "        ... \n",
      "0.67       1\n",
      "2.45       1\n",
      "0.47       1\n",
      "0.26       1\n",
      "0.23       1\n",
      "Name: PRCP, Length: 89, dtype: int64\n"
     ]
    }
   ],
   "source": [
    "print('STATION\\n', df['STATION'].value_counts(), end='\\n\\n')\n",
    "print('NAME\\n', df['NAME'].value_counts(), end='\\n\\n')\n",
    "print('LATITUDE\\n', df['LATITUDE'].value_counts(), end='\\n\\n')\n",
    "print('LONGITUDE\\n', df['LONGITUDE'].value_counts(), end='\\n\\n')\n",
    "print('ELEVATION\\n', df['ELEVATION'].value_counts(), end='\\n\\n')\n",
    "\n",
    "\n",
    "print('output for PRCP:\\n', df['PRCP'].value_counts())"
   ]
  },
  {
   "cell_type": "code",
   "execution_count": 6,
   "metadata": {},
   "outputs": [
    {
     "data": {
      "text/html": [
       "<div>\n",
       "<style scoped>\n",
       "    .dataframe tbody tr th:only-of-type {\n",
       "        vertical-align: middle;\n",
       "    }\n",
       "\n",
       "    .dataframe tbody tr th {\n",
       "        vertical-align: top;\n",
       "    }\n",
       "\n",
       "    .dataframe thead th {\n",
       "        text-align: right;\n",
       "    }\n",
       "</style>\n",
       "<table border=\"1\" class=\"dataframe\">\n",
       "  <thead>\n",
       "    <tr style=\"text-align: right;\">\n",
       "      <th></th>\n",
       "      <th>STATION</th>\n",
       "      <th>NAME</th>\n",
       "      <th>LATITUDE</th>\n",
       "      <th>LONGITUDE</th>\n",
       "      <th>ELEVATION</th>\n",
       "    </tr>\n",
       "  </thead>\n",
       "  <tbody>\n",
       "    <tr>\n",
       "      <th>0</th>\n",
       "      <td>US1CASD0030</td>\n",
       "      <td>LA JOLLA 2.1 SE, CA US</td>\n",
       "      <td>32.8257</td>\n",
       "      <td>-117.2501</td>\n",
       "      <td>149.7</td>\n",
       "    </tr>\n",
       "  </tbody>\n",
       "</table>\n",
       "</div>"
      ],
      "text/plain": [
       "       STATION                    NAME  LATITUDE  LONGITUDE  ELEVATION\n",
       "0  US1CASD0030  LA JOLLA 2.1 SE, CA US   32.8257  -117.2501      149.7"
      ]
     },
     "execution_count": 6,
     "metadata": {},
     "output_type": "execute_result"
    }
   ],
   "source": [
    "df_unique = df[['STATION', 'NAME', 'LATITUDE', 'LONGITUDE', 'ELEVATION']].drop_duplicates()\n",
    "df_unique"
   ]
  },
  {
   "cell_type": "code",
   "execution_count": 7,
   "metadata": {},
   "outputs": [
    {
     "data": {
      "text/html": [
       "<div>\n",
       "<style scoped>\n",
       "    .dataframe tbody tr th:only-of-type {\n",
       "        vertical-align: middle;\n",
       "    }\n",
       "\n",
       "    .dataframe tbody tr th {\n",
       "        vertical-align: top;\n",
       "    }\n",
       "\n",
       "    .dataframe thead th {\n",
       "        text-align: right;\n",
       "    }\n",
       "</style>\n",
       "<table border=\"1\" class=\"dataframe\">\n",
       "  <thead>\n",
       "    <tr style=\"text-align: right;\">\n",
       "      <th></th>\n",
       "      <th>NAME</th>\n",
       "      <th>LATITUDE</th>\n",
       "      <th>LONGITUDE</th>\n",
       "      <th>ELEVATION</th>\n",
       "    </tr>\n",
       "    <tr>\n",
       "      <th>STATION</th>\n",
       "      <th></th>\n",
       "      <th></th>\n",
       "      <th></th>\n",
       "      <th></th>\n",
       "    </tr>\n",
       "  </thead>\n",
       "  <tbody>\n",
       "    <tr>\n",
       "      <th>US1CASD0030</th>\n",
       "      <td>1</td>\n",
       "      <td>1</td>\n",
       "      <td>1</td>\n",
       "      <td>1</td>\n",
       "    </tr>\n",
       "  </tbody>\n",
       "</table>\n",
       "</div>"
      ],
      "text/plain": [
       "             NAME  LATITUDE  LONGITUDE  ELEVATION\n",
       "STATION                                          \n",
       "US1CASD0030     1         1          1          1"
      ]
     },
     "execution_count": 7,
     "metadata": {},
     "output_type": "execute_result"
    }
   ],
   "source": [
    "df_unique.groupby('STATION').count()"
   ]
  },
  {
   "cell_type": "code",
   "execution_count": 8,
   "metadata": {},
   "outputs": [
    {
     "name": "stdout",
     "output_type": "stream",
     "text": [
      "2009-02-18 00:00:00 | 2009 2 18 49\n",
      "2009-02-19 00:00:00 | 2009 2 19 50\n",
      "2009-02-20 00:00:00 | 2009 2 20 51\n",
      "2009-02-21 00:00:00 | 2009 2 21 52\n",
      "2009-02-22 00:00:00 | 2009 2 22 53\n"
     ]
    },
    {
     "data": {
      "text/plain": [
       "[None, None, None, None, None]"
      ]
     },
     "execution_count": 8,
     "metadata": {},
     "output_type": "execute_result"
    }
   ],
   "source": [
    "[print(time, '|', time.year, time.month, time.day, time.dayofyear) for time in df['DATE'][:5]]"
   ]
  },
  {
   "cell_type": "code",
   "execution_count": 9,
   "metadata": {},
   "outputs": [
    {
     "data": {
      "text/html": [
       "<div>\n",
       "<style scoped>\n",
       "    .dataframe tbody tr th:only-of-type {\n",
       "        vertical-align: middle;\n",
       "    }\n",
       "\n",
       "    .dataframe tbody tr th {\n",
       "        vertical-align: top;\n",
       "    }\n",
       "\n",
       "    .dataframe thead th {\n",
       "        text-align: right;\n",
       "    }\n",
       "</style>\n",
       "<table border=\"1\" class=\"dataframe\">\n",
       "  <thead>\n",
       "    <tr style=\"text-align: right;\">\n",
       "      <th></th>\n",
       "      <th>STATION</th>\n",
       "      <th>NAME</th>\n",
       "      <th>LATITUDE</th>\n",
       "      <th>LONGITUDE</th>\n",
       "      <th>ELEVATION</th>\n",
       "      <th>DATE</th>\n",
       "      <th>PRCP</th>\n",
       "      <th>PRCP_ATTRIBUTES</th>\n",
       "      <th>YEAR</th>\n",
       "      <th>MONTH</th>\n",
       "      <th>DAY</th>\n",
       "      <th>DOY</th>\n",
       "    </tr>\n",
       "  </thead>\n",
       "  <tbody>\n",
       "    <tr>\n",
       "      <th>0</th>\n",
       "      <td>US1CASD0030</td>\n",
       "      <td>LA JOLLA 2.1 SE, CA US</td>\n",
       "      <td>32.8257</td>\n",
       "      <td>-117.2501</td>\n",
       "      <td>149.7</td>\n",
       "      <td>2009-02-18</td>\n",
       "      <td>0.0</td>\n",
       "      <td>,,N</td>\n",
       "      <td>2009</td>\n",
       "      <td>2</td>\n",
       "      <td>18</td>\n",
       "      <td>49</td>\n",
       "    </tr>\n",
       "    <tr>\n",
       "      <th>1</th>\n",
       "      <td>US1CASD0030</td>\n",
       "      <td>LA JOLLA 2.1 SE, CA US</td>\n",
       "      <td>32.8257</td>\n",
       "      <td>-117.2501</td>\n",
       "      <td>149.7</td>\n",
       "      <td>2009-02-19</td>\n",
       "      <td>0.0</td>\n",
       "      <td>,,N</td>\n",
       "      <td>2009</td>\n",
       "      <td>2</td>\n",
       "      <td>19</td>\n",
       "      <td>50</td>\n",
       "    </tr>\n",
       "    <tr>\n",
       "      <th>2</th>\n",
       "      <td>US1CASD0030</td>\n",
       "      <td>LA JOLLA 2.1 SE, CA US</td>\n",
       "      <td>32.8257</td>\n",
       "      <td>-117.2501</td>\n",
       "      <td>149.7</td>\n",
       "      <td>2009-02-20</td>\n",
       "      <td>0.0</td>\n",
       "      <td>,,N</td>\n",
       "      <td>2009</td>\n",
       "      <td>2</td>\n",
       "      <td>20</td>\n",
       "      <td>51</td>\n",
       "    </tr>\n",
       "    <tr>\n",
       "      <th>3</th>\n",
       "      <td>US1CASD0030</td>\n",
       "      <td>LA JOLLA 2.1 SE, CA US</td>\n",
       "      <td>32.8257</td>\n",
       "      <td>-117.2501</td>\n",
       "      <td>149.7</td>\n",
       "      <td>2009-02-21</td>\n",
       "      <td>0.0</td>\n",
       "      <td>,,N</td>\n",
       "      <td>2009</td>\n",
       "      <td>2</td>\n",
       "      <td>21</td>\n",
       "      <td>52</td>\n",
       "    </tr>\n",
       "    <tr>\n",
       "      <th>4</th>\n",
       "      <td>US1CASD0030</td>\n",
       "      <td>LA JOLLA 2.1 SE, CA US</td>\n",
       "      <td>32.8257</td>\n",
       "      <td>-117.2501</td>\n",
       "      <td>149.7</td>\n",
       "      <td>2009-02-22</td>\n",
       "      <td>0.0</td>\n",
       "      <td>,,N</td>\n",
       "      <td>2009</td>\n",
       "      <td>2</td>\n",
       "      <td>22</td>\n",
       "      <td>53</td>\n",
       "    </tr>\n",
       "    <tr>\n",
       "      <th>...</th>\n",
       "      <td>...</td>\n",
       "      <td>...</td>\n",
       "      <td>...</td>\n",
       "      <td>...</td>\n",
       "      <td>...</td>\n",
       "      <td>...</td>\n",
       "      <td>...</td>\n",
       "      <td>...</td>\n",
       "      <td>...</td>\n",
       "      <td>...</td>\n",
       "      <td>...</td>\n",
       "      <td>...</td>\n",
       "    </tr>\n",
       "    <tr>\n",
       "      <th>3509</th>\n",
       "      <td>US1CASD0030</td>\n",
       "      <td>LA JOLLA 2.1 SE, CA US</td>\n",
       "      <td>32.8257</td>\n",
       "      <td>-117.2501</td>\n",
       "      <td>149.7</td>\n",
       "      <td>2018-11-05</td>\n",
       "      <td>0.0</td>\n",
       "      <td>,,N</td>\n",
       "      <td>2018</td>\n",
       "      <td>11</td>\n",
       "      <td>5</td>\n",
       "      <td>309</td>\n",
       "    </tr>\n",
       "    <tr>\n",
       "      <th>3510</th>\n",
       "      <td>US1CASD0030</td>\n",
       "      <td>LA JOLLA 2.1 SE, CA US</td>\n",
       "      <td>32.8257</td>\n",
       "      <td>-117.2501</td>\n",
       "      <td>149.7</td>\n",
       "      <td>2018-11-06</td>\n",
       "      <td>0.0</td>\n",
       "      <td>,,N</td>\n",
       "      <td>2018</td>\n",
       "      <td>11</td>\n",
       "      <td>6</td>\n",
       "      <td>310</td>\n",
       "    </tr>\n",
       "    <tr>\n",
       "      <th>3511</th>\n",
       "      <td>US1CASD0030</td>\n",
       "      <td>LA JOLLA 2.1 SE, CA US</td>\n",
       "      <td>32.8257</td>\n",
       "      <td>-117.2501</td>\n",
       "      <td>149.7</td>\n",
       "      <td>2018-11-07</td>\n",
       "      <td>0.0</td>\n",
       "      <td>,,N</td>\n",
       "      <td>2018</td>\n",
       "      <td>11</td>\n",
       "      <td>7</td>\n",
       "      <td>311</td>\n",
       "    </tr>\n",
       "    <tr>\n",
       "      <th>3512</th>\n",
       "      <td>US1CASD0030</td>\n",
       "      <td>LA JOLLA 2.1 SE, CA US</td>\n",
       "      <td>32.8257</td>\n",
       "      <td>-117.2501</td>\n",
       "      <td>149.7</td>\n",
       "      <td>2018-11-08</td>\n",
       "      <td>0.0</td>\n",
       "      <td>,,N</td>\n",
       "      <td>2018</td>\n",
       "      <td>11</td>\n",
       "      <td>8</td>\n",
       "      <td>312</td>\n",
       "    </tr>\n",
       "    <tr>\n",
       "      <th>3513</th>\n",
       "      <td>US1CASD0030</td>\n",
       "      <td>LA JOLLA 2.1 SE, CA US</td>\n",
       "      <td>32.8257</td>\n",
       "      <td>-117.2501</td>\n",
       "      <td>149.7</td>\n",
       "      <td>2018-11-09</td>\n",
       "      <td>0.0</td>\n",
       "      <td>,,N</td>\n",
       "      <td>2018</td>\n",
       "      <td>11</td>\n",
       "      <td>9</td>\n",
       "      <td>313</td>\n",
       "    </tr>\n",
       "  </tbody>\n",
       "</table>\n",
       "<p>3514 rows × 12 columns</p>\n",
       "</div>"
      ],
      "text/plain": [
       "          STATION                    NAME  LATITUDE  LONGITUDE  ELEVATION  \\\n",
       "0     US1CASD0030  LA JOLLA 2.1 SE, CA US   32.8257  -117.2501      149.7   \n",
       "1     US1CASD0030  LA JOLLA 2.1 SE, CA US   32.8257  -117.2501      149.7   \n",
       "2     US1CASD0030  LA JOLLA 2.1 SE, CA US   32.8257  -117.2501      149.7   \n",
       "3     US1CASD0030  LA JOLLA 2.1 SE, CA US   32.8257  -117.2501      149.7   \n",
       "4     US1CASD0030  LA JOLLA 2.1 SE, CA US   32.8257  -117.2501      149.7   \n",
       "...           ...                     ...       ...        ...        ...   \n",
       "3509  US1CASD0030  LA JOLLA 2.1 SE, CA US   32.8257  -117.2501      149.7   \n",
       "3510  US1CASD0030  LA JOLLA 2.1 SE, CA US   32.8257  -117.2501      149.7   \n",
       "3511  US1CASD0030  LA JOLLA 2.1 SE, CA US   32.8257  -117.2501      149.7   \n",
       "3512  US1CASD0030  LA JOLLA 2.1 SE, CA US   32.8257  -117.2501      149.7   \n",
       "3513  US1CASD0030  LA JOLLA 2.1 SE, CA US   32.8257  -117.2501      149.7   \n",
       "\n",
       "           DATE  PRCP PRCP_ATTRIBUTES  YEAR  MONTH  DAY  DOY  \n",
       "0    2009-02-18   0.0             ,,N  2009      2   18   49  \n",
       "1    2009-02-19   0.0             ,,N  2009      2   19   50  \n",
       "2    2009-02-20   0.0             ,,N  2009      2   20   51  \n",
       "3    2009-02-21   0.0             ,,N  2009      2   21   52  \n",
       "4    2009-02-22   0.0             ,,N  2009      2   22   53  \n",
       "...         ...   ...             ...   ...    ...  ...  ...  \n",
       "3509 2018-11-05   0.0             ,,N  2018     11    5  309  \n",
       "3510 2018-11-06   0.0             ,,N  2018     11    6  310  \n",
       "3511 2018-11-07   0.0             ,,N  2018     11    7  311  \n",
       "3512 2018-11-08   0.0             ,,N  2018     11    8  312  \n",
       "3513 2018-11-09   0.0             ,,N  2018     11    9  313  \n",
       "\n",
       "[3514 rows x 12 columns]"
      ]
     },
     "execution_count": 9,
     "metadata": {},
     "output_type": "execute_result"
    }
   ],
   "source": [
    "df['YEAR'] = [time.year for time in df['DATE']]\n",
    "df['MONTH'] = [time.month for time in df['DATE']]\n",
    "df['DAY'] = [time.day for time in df['DATE']]\n",
    "df['DOY'] = [time.dayofyear for time in df['DATE']]\n",
    "df"
   ]
  },
  {
   "cell_type": "markdown",
   "metadata": {},
   "source": [
    "#### C. Plot precipitation versus time\n",
    "1. Use the Matplotlib function plot() to plot precipitation versus date as a single line, using a single color from ColorBrewer or xkcd (via Seaborn). Save your plot as a PDF file.\n",
    "2. Plot precipitation versus day of year for each year separately, with each year as a different colored line, the x-axis going from the beginning to the end of the year, and a legend indicating the year. Hint: use the 'DAY_OF_YEAR' and 'YEAR' columns you created in B3. Color using a qualitative color palette from Seaborn or ColorBrewer (via Seaborn). Save your plot as a PDF file.\n",
    "3. Create a set of subplots with a grid of 2 columns and enough rows to have one subplot per year (e.g., to show 10 years, your set of subplots would be 5 by 2). Plot precipitation versus day of year with each year as a separate subplot. Save your figure as a PDF file."
   ]
  },
  {
   "cell_type": "code",
   "execution_count": 10,
   "metadata": {},
   "outputs": [
    {
     "data": {
      "image/png": "[encoded data removed]",
      "text/plain": [
       "<Figure size 1152x432 with 1 Axes>"
      ]
     },
     "metadata": {
      "needs_background": "light"
     },
     "output_type": "display_data"
    }
   ],
   "source": [
    "plot = df[['DATE', 'PRCP']].set_index('DATE').plot(figsize=(16,6))\n",
    "plot.get_figure().savefig('DATE_PRCP_plot.pdf', format='pdf')"
   ]
  },
  {
   "cell_type": "code",
   "execution_count": 11,
   "metadata": {},
   "outputs": [
    {
     "name": "stdout",
     "output_type": "stream",
     "text": [
      "DATE_PRCP_plot.pdf  La_jolla.ipynb\t\t SUB_plot.pdf\r\n",
      "DOY_PRCP_plot.pdf   la_jolla_precip_daily.csv.1\r\n"
     ]
    }
   ],
   "source": [
    "! ls"
   ]
  },
  {
   "cell_type": "code",
   "execution_count": 12,
   "metadata": {},
   "outputs": [
    {
     "data": {
      "image/png": "[encoded data removed]",
      "text/plain": [
       "<Figure size 1152x432 with 1 Axes>"
      ]
     },
     "metadata": {
      "needs_background": "light"
     },
     "output_type": "display_data"
    }
   ],
   "source": [
    "plot2 = pd.DataFrame(range(366)).set_index(0)\n",
    "for year in df['YEAR'].unique():\n",
    "    yr = df[df['YEAR']==year].set_index('DOY')\n",
    "    plot2 = pd.concat([plot2, yr['PRCP']], axis=1, join='outer').rename(columns={'PRCP':str(year)})\n",
    "plot2 = plot2.cumsum().plot(figsize=(16,6))\n",
    "plot2.get_figure().savefig('DOY_PRCP_plot.pdf', format='pdf')"
   ]
  },
  {
   "cell_type": "code",
   "execution_count": 13,
   "metadata": {},
   "outputs": [
    {
     "name": "stdout",
     "output_type": "stream",
     "text": [
      "DATE_PRCP_plot.pdf  La_jolla.ipynb\t\t SUB_plot.pdf\r\n",
      "DOY_PRCP_plot.pdf   la_jolla_precip_daily.csv.1\r\n"
     ]
    }
   ],
   "source": [
    "! ls"
   ]
  },
  {
   "cell_type": "code",
   "execution_count": 14,
   "metadata": {},
   "outputs": [
    {
     "data": {
      "text/plain": [
       "10"
      ]
     },
     "execution_count": 14,
     "metadata": {},
     "output_type": "execute_result"
    }
   ],
   "source": [
    "dfs=[]\n",
    "plot2 = pd.DataFrame(range(366)).set_index(0)\n",
    "for year in df['YEAR'].unique():\n",
    "    yr = df[df['YEAR']==year].set_index('DOY')\n",
    "    dfs.append(pd.concat([plot2, yr['PRCP']], axis=1, join='outer').rename(columns={'PRCP':str(year)}))\n",
    "\n",
    "len(dfs)"
   ]
  },
  {
   "cell_type": "code",
   "execution_count": 15,
   "metadata": {},
   "outputs": [
    {
     "data": {
      "image/png": "[encoded data removed]",
      "text/plain": [
       "<Figure size 1080x1080 with 10 Axes>"
      ]
     },
     "metadata": {
      "needs_background": "light"
     },
     "output_type": "display_data"
    }
   ],
   "source": [
    "nrow, ncol = 5, 2\n",
    "plot3, axes = plt.subplots(nrow, ncol, figsize=(15,15))\n",
    "i=0\n",
    "for r in range(nrow):\n",
    "    for c in range(ncol):\n",
    "        dfs[i].plot(ax=axes[r,c])\n",
    "        i += 1\n",
    "#plot3.get_figure().savefig('SUB_plot.pdf', format='pdf')\n",
    "plot3.savefig(\"SUB_plot.pdf\")"
   ]
  },
  {
   "cell_type": "code",
   "execution_count": 16,
   "metadata": {},
   "outputs": [
    {
     "name": "stdout",
     "output_type": "stream",
     "text": [
      "DATE_PRCP_plot.pdf  La_jolla.ipynb\t\t SUB_plot.pdf\r\n",
      "DOY_PRCP_plot.pdf   la_jolla_precip_daily.csv.1\r\n"
     ]
    }
   ],
   "source": [
    "!ls"
   ]
  },
  {
   "cell_type": "markdown",
   "metadata": {},
   "source": [
    "#### D. Plot distributions of the precipitation data\n",
    "1. Plot a histogram of precipitation values using the Matplotlib function hist().\n",
    "2. Plot a histogram with kernel density and rugplot with the Seaborn function distplot(). Play around with the settings to make a histogram that represents the data well.\n",
    "3. Use groupby to group the data by year or by month. Which year was the rainiest? Which month was the rainiest?\n",
    "4. Make boxplots by year and by month using the Seaborn function boxplot(). Hint: If you make a boxplot of your DataFrame without grouping, the boxplots will be centered on zero, because there are so many days with zero precipitation. Instead, use groupby to group the data by year and month (use a list containing these columns), set as_index=False, average over those groups, and save this as a new DataFrame; then use this for your boxplots."
   ]
  },
  {
   "cell_type": "code",
   "execution_count": 17,
   "metadata": {},
   "outputs": [
    {
     "data": {
      "text/plain": [
       "<matplotlib.axes._subplots.AxesSubplot at 0x7f3a5757dd50>"
      ]
     },
     "execution_count": 17,
     "metadata": {},
     "output_type": "execute_result"
    },
    {
     "data": {
      "image/png": "[encoded data removed]",
      "text/plain": [
       "<Figure size 864x288 with 1 Axes>"
      ]
     },
     "metadata": {
      "needs_background": "light"
     },
     "output_type": "display_data"
    }
   ],
   "source": [
    "df['PRCP'].hist(figsize=(12,4))"
   ]
  },
  {
   "cell_type": "code",
   "execution_count": 92,
   "metadata": {},
   "outputs": [
    {
     "data": {
      "text/plain": [
       "(0, 1)"
      ]
     },
     "execution_count": 92,
     "metadata": {},
     "output_type": "execute_result"
    },
    {
     "data": {
      "image/png": "[encoded data removed]",
      "text/plain": [
       "<Figure size 432x288 with 1 Axes>"
      ]
     },
     "metadata": {
      "needs_background": "light"
     },
     "output_type": "display_data"
    }
   ],
   "source": [
    "#???\n",
    "plot = sns.distplot(df['PRCP'], kde=True, rug=True,  hist=True, kde_kws={'bw':0.01})\n",
    "plot.set_xlim(0,1)\n",
    "plot.set_ylim(0,1)"
   ]
  },
  {
   "cell_type": "code",
   "execution_count": 19,
   "metadata": {},
   "outputs": [
    {
     "name": "stdout",
     "output_type": "stream",
     "text": [
      "max PRCP for the year equal to 20.54 and it was in 2010\n",
      "the most rainy month was in 12/2010 and euqal to 6.65\n"
     ]
    }
   ],
   "source": [
    "prcp_per_year = []\n",
    "for year in df.groupby('YEAR'):\n",
    "    prcp_y = round(sum(list(year[1]['PRCP'])), 3)\n",
    "    #print('In year', year[0], 'PRCP = ', prcp_y)\n",
    "    prcp_per_year.append(prcp_y)\n",
    "    \n",
    "prcp_per_month = []\n",
    "for year in df.groupby('YEAR'):\n",
    "    for month in year[1].groupby('MONTH'):\n",
    "        prcp_per_month.append((year[0], month[0],round(sum(list(month[1]['PRCP'])), 3)))\n",
    "\n",
    "list_of_prcp = [prcp[2] for prcp in prcp_per_month]\n",
    "max_prcp = max(list_of_prcp)\n",
    "index = list_of_prcp.index(max_prcp)\n",
    "\n",
    "\n",
    "print(f'max PRCP for the year equal to {max(prcp_per_year)} and it was in {2009 + prcp_per_year.index(max(prcp_per_year))}')\n",
    "\n",
    "print(f'the most rainy month was in {prcp_per_month[index][1]}/{prcp_per_month[index][0]} \\\n",
    "and euqal to {prcp_per_month[index][2]}')"
   ]
  },
  {
   "cell_type": "code",
   "execution_count": 20,
   "metadata": {},
   "outputs": [],
   "source": [
    "year_for_boxplot = prcp_per_year\n",
    "month_for_boxplot = [prcp[2] for prcp in prcp_per_month]"
   ]
  },
  {
   "cell_type": "code",
   "execution_count": 21,
   "metadata": {},
   "outputs": [
    {
     "data": {
      "text/plain": [
       "<matplotlib.axes._subplots.AxesSubplot at 0x7f3a573a4c50>"
      ]
     },
     "execution_count": 21,
     "metadata": {},
     "output_type": "execute_result"
    },
    {
     "data": {
      "image/png": "[encoded data removed]",
      "text/plain": [
       "<Figure size 432x288 with 1 Axes>"
      ]
     },
     "metadata": {
      "needs_background": "light"
     },
     "output_type": "display_data"
    }
   ],
   "source": [
    "#sns.boxplot([list(el[1]['PRCP']) for el in df.groupby('YEAR')][0])\n",
    "sns.boxplot(year_for_boxplot)"
   ]
  },
  {
   "cell_type": "code",
   "execution_count": 22,
   "metadata": {},
   "outputs": [
    {
     "name": "stdout",
     "output_type": "stream",
     "text": [
      "month = 1 [5.26, 0.86, 0.56, 1.47, 0.07, 0.5, 3.33, 4.96, 2.28]\n",
      "month = 2 [0.0, 2.3, 1.6, 1.56, 0.48, 1.05, 0.38, 0.45, 6.06, 0.39]\n",
      "month = 3 [0.24, 0.62, 0.65, 1.29, 1.18, 1.83, 1.02, 1.09, 0.25, 1.58]\n",
      "month = 4 [0.09, 1.93, 0.3, 1.6, 0.18, 0.54, 0.16, 0.55, 0.14, 0.08]\n",
      "month = 5 [0.21, 0.06, 0.74, 0.02, 0.51, 0.0, 1.26, 1.03, 1.12, 0.33]\n",
      "month = 6 [0.1, 0.08, 0.09, 0.05, 0.01, 0.0, 0.06, 0.02, 0.29, 0.01]\n",
      "month = 7 [0.0, 0.11, 0.0, 0.01, 0.04, 0.35, 1.37, 0.0, 0.01, 0.0]\n",
      "month = 8 [0.01, 0.0, 0.0, 0.05, 0.01, 0.2, 0.04, 0.03, 0.03, 0.0]\n",
      "month = 9 [0.04, 0.05, 0.04, 0.04, 0.0, 0.54, 1.07, 0.47, 0.01, 0.0]\n",
      "month = 10 [0.04, 2.51, 0.56, 1.31, 0.36, 0.0, 1.03, 0.15, 0.0, 0.18]\n",
      "month = 11 [0.34, 0.97, 3.24, 0.3, 0.08, 0.58, 2.02, 1.28, 0.17, 0.0]\n",
      "month = 12 [3.15, 6.65, 1.21, 3.29, 0.31, 3.16, 1.2, 4.65, 0.14]\n"
     ]
    },
    {
     "data": {
      "text/plain": [
       "(<matplotlib.axes._subplots.AxesSubplot at 0x7f3a5730fbd0>,\n",
       "            0\n",
       " 0   2.143333\n",
       " 1   1.427000\n",
       " 2   0.975000\n",
       " 3   0.557000\n",
       " 4   0.528000\n",
       " 5   0.071000\n",
       " 6   0.189000\n",
       " 7   0.037000\n",
       " 8   0.226000\n",
       " 9   0.614000\n",
       " 10  0.898000\n",
       " 11  2.640000)"
      ]
     },
     "execution_count": 22,
     "metadata": {},
     "output_type": "execute_result"
    },
    {
     "data": {
      "image/png": "[encoded data removed]",
      "text/plain": [
       "<Figure size 432x288 with 1 Axes>"
      ]
     },
     "metadata": {
      "needs_background": "light"
     },
     "output_type": "display_data"
    }
   ],
   "source": [
    "months = []\n",
    "for month in pd.DataFrame(prcp_per_month).groupby(1):\n",
    "    print(f'month = {month[0]}', list(month[1][2]))\n",
    "    months.append(sum(list(month[1][2]))/len(list(month[1][2])))\n",
    "\n",
    "month = pd.DataFrame(months)\n",
    "sns.boxplot(month), month"
   ]
  },
  {
   "cell_type": "markdown",
   "metadata": {},
   "source": [
    "#### E. Pivoting, stacking and unstacking\n",
    "1. Use pivot_table() to produce a new DataFrame, where rows=years and columns=months, containing the mean precipitation of each month.\n",
    "2. Draw a heatmap of years x months where each square is a month colored by mean precipitation. Adjust the colormap to highlight months with heavy precipitation. Hint: Seaborn's heatmap() function makes this very easy.\n",
    "3. Stack the monthly precipitation table using stack(). View the values for 2017. Which month had the most precipitation in 2017? Describe the distribution statistics for all months using describe(). How many months are included in this dataset? What was the median month (daily average) value in this time period?\n",
    "4. Use unstack() to stack precipitation pivot table by month and then year. View the values for December. Which year had the wettest December?"
   ]
  },
  {
   "cell_type": "code",
   "execution_count": 23,
   "metadata": {},
   "outputs": [
    {
     "data": {
      "text/html": [
       "<div>\n",
       "<style scoped>\n",
       "    .dataframe tbody tr th:only-of-type {\n",
       "        vertical-align: middle;\n",
       "    }\n",
       "\n",
       "    .dataframe tbody tr th {\n",
       "        vertical-align: top;\n",
       "    }\n",
       "\n",
       "    .dataframe thead th {\n",
       "        text-align: right;\n",
       "    }\n",
       "</style>\n",
       "<table border=\"1\" class=\"dataframe\">\n",
       "  <thead>\n",
       "    <tr style=\"text-align: right;\">\n",
       "      <th>MONTH</th>\n",
       "      <th>1</th>\n",
       "      <th>2</th>\n",
       "      <th>3</th>\n",
       "      <th>4</th>\n",
       "      <th>5</th>\n",
       "      <th>6</th>\n",
       "      <th>7</th>\n",
       "      <th>8</th>\n",
       "      <th>9</th>\n",
       "      <th>10</th>\n",
       "      <th>11</th>\n",
       "      <th>12</th>\n",
       "    </tr>\n",
       "    <tr>\n",
       "      <th>YEAR</th>\n",
       "      <th></th>\n",
       "      <th></th>\n",
       "      <th></th>\n",
       "      <th></th>\n",
       "      <th></th>\n",
       "      <th></th>\n",
       "      <th></th>\n",
       "      <th></th>\n",
       "      <th></th>\n",
       "      <th></th>\n",
       "      <th></th>\n",
       "      <th></th>\n",
       "    </tr>\n",
       "  </thead>\n",
       "  <tbody>\n",
       "    <tr>\n",
       "      <th>2009</th>\n",
       "      <td>NaN</td>\n",
       "      <td>0.000000</td>\n",
       "      <td>0.007742</td>\n",
       "      <td>0.003000</td>\n",
       "      <td>0.006774</td>\n",
       "      <td>0.003704</td>\n",
       "      <td>0.000000</td>\n",
       "      <td>0.000323</td>\n",
       "      <td>0.001333</td>\n",
       "      <td>0.001290</td>\n",
       "      <td>0.011333</td>\n",
       "      <td>0.101613</td>\n",
       "    </tr>\n",
       "    <tr>\n",
       "      <th>2010</th>\n",
       "      <td>0.169677</td>\n",
       "      <td>0.088462</td>\n",
       "      <td>0.020000</td>\n",
       "      <td>0.064333</td>\n",
       "      <td>0.001935</td>\n",
       "      <td>0.002667</td>\n",
       "      <td>0.003548</td>\n",
       "      <td>0.000000</td>\n",
       "      <td>0.001923</td>\n",
       "      <td>0.080968</td>\n",
       "      <td>0.032333</td>\n",
       "      <td>0.214516</td>\n",
       "    </tr>\n",
       "    <tr>\n",
       "      <th>2011</th>\n",
       "      <td>0.027742</td>\n",
       "      <td>0.061538</td>\n",
       "      <td>0.022414</td>\n",
       "      <td>0.010000</td>\n",
       "      <td>0.025517</td>\n",
       "      <td>0.003000</td>\n",
       "      <td>0.000000</td>\n",
       "      <td>0.000000</td>\n",
       "      <td>0.001429</td>\n",
       "      <td>0.018065</td>\n",
       "      <td>0.108000</td>\n",
       "      <td>0.039032</td>\n",
       "    </tr>\n",
       "    <tr>\n",
       "      <th>2012</th>\n",
       "      <td>0.018065</td>\n",
       "      <td>0.057778</td>\n",
       "      <td>0.041613</td>\n",
       "      <td>0.053333</td>\n",
       "      <td>0.000645</td>\n",
       "      <td>0.001667</td>\n",
       "      <td>0.000323</td>\n",
       "      <td>0.001613</td>\n",
       "      <td>0.001333</td>\n",
       "      <td>0.042258</td>\n",
       "      <td>0.010000</td>\n",
       "      <td>0.121852</td>\n",
       "    </tr>\n",
       "    <tr>\n",
       "      <th>2013</th>\n",
       "      <td>0.047419</td>\n",
       "      <td>0.017143</td>\n",
       "      <td>0.038065</td>\n",
       "      <td>0.006000</td>\n",
       "      <td>0.016452</td>\n",
       "      <td>0.000333</td>\n",
       "      <td>0.001290</td>\n",
       "      <td>0.000323</td>\n",
       "      <td>0.000000</td>\n",
       "      <td>0.011613</td>\n",
       "      <td>0.002857</td>\n",
       "      <td>0.010000</td>\n",
       "    </tr>\n",
       "    <tr>\n",
       "      <th>2014</th>\n",
       "      <td>0.002258</td>\n",
       "      <td>0.037500</td>\n",
       "      <td>0.059032</td>\n",
       "      <td>0.018000</td>\n",
       "      <td>0.000000</td>\n",
       "      <td>0.000000</td>\n",
       "      <td>0.011290</td>\n",
       "      <td>0.006452</td>\n",
       "      <td>0.018000</td>\n",
       "      <td>0.000000</td>\n",
       "      <td>0.019333</td>\n",
       "      <td>0.105333</td>\n",
       "    </tr>\n",
       "    <tr>\n",
       "      <th>2015</th>\n",
       "      <td>0.016667</td>\n",
       "      <td>0.013571</td>\n",
       "      <td>0.032903</td>\n",
       "      <td>0.005333</td>\n",
       "      <td>0.040645</td>\n",
       "      <td>0.002000</td>\n",
       "      <td>0.044194</td>\n",
       "      <td>0.001290</td>\n",
       "      <td>0.035667</td>\n",
       "      <td>0.033226</td>\n",
       "      <td>0.067333</td>\n",
       "      <td>0.038710</td>\n",
       "    </tr>\n",
       "    <tr>\n",
       "      <th>2016</th>\n",
       "      <td>0.107419</td>\n",
       "      <td>0.015517</td>\n",
       "      <td>0.035161</td>\n",
       "      <td>0.018333</td>\n",
       "      <td>0.033226</td>\n",
       "      <td>0.000667</td>\n",
       "      <td>0.000000</td>\n",
       "      <td>0.000968</td>\n",
       "      <td>0.015667</td>\n",
       "      <td>0.004839</td>\n",
       "      <td>0.042667</td>\n",
       "      <td>0.150000</td>\n",
       "    </tr>\n",
       "    <tr>\n",
       "      <th>2017</th>\n",
       "      <td>0.160000</td>\n",
       "      <td>0.216429</td>\n",
       "      <td>0.008065</td>\n",
       "      <td>0.004667</td>\n",
       "      <td>0.036129</td>\n",
       "      <td>0.009667</td>\n",
       "      <td>0.000323</td>\n",
       "      <td>0.000968</td>\n",
       "      <td>0.000476</td>\n",
       "      <td>0.000000</td>\n",
       "      <td>0.005667</td>\n",
       "      <td>0.004516</td>\n",
       "    </tr>\n",
       "    <tr>\n",
       "      <th>2018</th>\n",
       "      <td>0.073548</td>\n",
       "      <td>0.013929</td>\n",
       "      <td>0.050968</td>\n",
       "      <td>0.002667</td>\n",
       "      <td>0.010645</td>\n",
       "      <td>0.000333</td>\n",
       "      <td>0.000000</td>\n",
       "      <td>0.000000</td>\n",
       "      <td>0.000000</td>\n",
       "      <td>0.006207</td>\n",
       "      <td>0.000000</td>\n",
       "      <td>NaN</td>\n",
       "    </tr>\n",
       "  </tbody>\n",
       "</table>\n",
       "</div>"
      ],
      "text/plain": [
       "MONTH        1         2         3         4         5         6         7   \\\n",
       "YEAR                                                                          \n",
       "2009        NaN  0.000000  0.007742  0.003000  0.006774  0.003704  0.000000   \n",
       "2010   0.169677  0.088462  0.020000  0.064333  0.001935  0.002667  0.003548   \n",
       "2011   0.027742  0.061538  0.022414  0.010000  0.025517  0.003000  0.000000   \n",
       "2012   0.018065  0.057778  0.041613  0.053333  0.000645  0.001667  0.000323   \n",
       "2013   0.047419  0.017143  0.038065  0.006000  0.016452  0.000333  0.001290   \n",
       "2014   0.002258  0.037500  0.059032  0.018000  0.000000  0.000000  0.011290   \n",
       "2015   0.016667  0.013571  0.032903  0.005333  0.040645  0.002000  0.044194   \n",
       "2016   0.107419  0.015517  0.035161  0.018333  0.033226  0.000667  0.000000   \n",
       "2017   0.160000  0.216429  0.008065  0.004667  0.036129  0.009667  0.000323   \n",
       "2018   0.073548  0.013929  0.050968  0.002667  0.010645  0.000333  0.000000   \n",
       "\n",
       "MONTH        8         9         10        11        12  \n",
       "YEAR                                                     \n",
       "2009   0.000323  0.001333  0.001290  0.011333  0.101613  \n",
       "2010   0.000000  0.001923  0.080968  0.032333  0.214516  \n",
       "2011   0.000000  0.001429  0.018065  0.108000  0.039032  \n",
       "2012   0.001613  0.001333  0.042258  0.010000  0.121852  \n",
       "2013   0.000323  0.000000  0.011613  0.002857  0.010000  \n",
       "2014   0.006452  0.018000  0.000000  0.019333  0.105333  \n",
       "2015   0.001290  0.035667  0.033226  0.067333  0.038710  \n",
       "2016   0.000968  0.015667  0.004839  0.042667  0.150000  \n",
       "2017   0.000968  0.000476  0.000000  0.005667  0.004516  \n",
       "2018   0.000000  0.000000  0.006207  0.000000       NaN  "
      ]
     },
     "execution_count": 23,
     "metadata": {},
     "output_type": "execute_result"
    }
   ],
   "source": [
    "pt = df[['YEAR', 'MONTH', 'PRCP']]\n",
    "pt = pd.pivot_table(pt, columns='MONTH', values='PRCP', index='YEAR')\n",
    "pt"
   ]
  },
  {
   "cell_type": "code",
   "execution_count": 24,
   "metadata": {},
   "outputs": [
    {
     "data": {
      "text/plain": [
       "<matplotlib.axes._subplots.AxesSubplot at 0x7f3a572944d0>"
      ]
     },
     "execution_count": 24,
     "metadata": {},
     "output_type": "execute_result"
    },
    {
     "data": {
      "image/png": "[encoded data removed]",
      "text/plain": [
       "<Figure size 1080x720 with 2 Axes>"
      ]
     },
     "metadata": {
      "needs_background": "light"
     },
     "output_type": "display_data"
    }
   ],
   "source": [
    "fig, ax = plt.subplots(figsize=(15,10))  \n",
    "sns.heatmap(pt, annot=True, cmap=sns.color_palette('Blues', 50))"
   ]
  },
  {
   "cell_type": "code",
   "execution_count": 25,
   "metadata": {},
   "outputs": [
    {
     "name": "stdout",
     "output_type": "stream",
     "text": [
      "MONTH\n",
      "1     0.160000\n",
      "2     0.216429\n",
      "3     0.008065\n",
      "4     0.004667\n",
      "5     0.036129\n",
      "6     0.009667\n",
      "7     0.000323\n",
      "8     0.000968\n",
      "9     0.000476\n",
      "10    0.000000\n",
      "11    0.005667\n",
      "12    0.004516\n",
      "Name: 0, dtype: float64\n",
      "2017, max percip month is 2 (Feb)\n"
     ]
    }
   ],
   "source": [
    "print(pd.DataFrame(pt.stack())[0].loc[2017])\n",
    "print(f'2017, max percip month is 2 (Feb)')"
   ]
  },
  {
   "cell_type": "markdown",
   "metadata": {},
   "source": [
    "12 month included.\n"
   ]
  },
  {
   "cell_type": "code",
   "execution_count": 74,
   "metadata": {
    "scrolled": true
   },
   "outputs": [
    {
     "name": "stdout",
     "output_type": "stream",
     "text": [
      "medial value = 0.019206581386725992 \n"
     ]
    },
    {
     "data": {
      "image/png": "[encoded data removed]",
      "text/plain": [
       "<Figure size 432x288 with 1 Axes>"
      ]
     },
     "metadata": {
      "needs_background": "light"
     },
     "output_type": "display_data"
    }
   ],
   "source": [
    "month_means = []\n",
    "for month in range(1, 13):\n",
    "    #print(f'MONTH = {month}\\n', pt[month].describe())\n",
    "    month_means.append((pt[month].mean()))\n",
    "month_meanth_sorted = month_means.sort\n",
    "mm = np.array(month_means)\n",
    "plt.plot(np.sort(mm))\n",
    "print(f'medial value = {np.median(mm)} ', )"
   ]
  },
  {
   "cell_type": "code",
   "execution_count": 103,
   "metadata": {},
   "outputs": [
    {
     "data": {
      "text/html": [
       "<div>\n",
       "<style scoped>\n",
       "    .dataframe tbody tr th:only-of-type {\n",
       "        vertical-align: middle;\n",
       "    }\n",
       "\n",
       "    .dataframe tbody tr th {\n",
       "        vertical-align: top;\n",
       "    }\n",
       "\n",
       "    .dataframe thead th {\n",
       "        text-align: right;\n",
       "    }\n",
       "</style>\n",
       "<table border=\"1\" class=\"dataframe\">\n",
       "  <thead>\n",
       "    <tr style=\"text-align: right;\">\n",
       "      <th></th>\n",
       "      <th></th>\n",
       "      <th>0</th>\n",
       "    </tr>\n",
       "    <tr>\n",
       "      <th>YEAR</th>\n",
       "      <th>MONTH</th>\n",
       "      <th></th>\n",
       "    </tr>\n",
       "  </thead>\n",
       "  <tbody>\n",
       "    <tr>\n",
       "      <th rowspan=\"5\" valign=\"top\">2009</th>\n",
       "      <th>2</th>\n",
       "      <td>0.000000</td>\n",
       "    </tr>\n",
       "    <tr>\n",
       "      <th>3</th>\n",
       "      <td>0.007742</td>\n",
       "    </tr>\n",
       "    <tr>\n",
       "      <th>4</th>\n",
       "      <td>0.003000</td>\n",
       "    </tr>\n",
       "    <tr>\n",
       "      <th>5</th>\n",
       "      <td>0.006774</td>\n",
       "    </tr>\n",
       "    <tr>\n",
       "      <th>6</th>\n",
       "      <td>0.003704</td>\n",
       "    </tr>\n",
       "    <tr>\n",
       "      <th>...</th>\n",
       "      <th>...</th>\n",
       "      <td>...</td>\n",
       "    </tr>\n",
       "    <tr>\n",
       "      <th rowspan=\"5\" valign=\"top\">2018</th>\n",
       "      <th>7</th>\n",
       "      <td>0.000000</td>\n",
       "    </tr>\n",
       "    <tr>\n",
       "      <th>8</th>\n",
       "      <td>0.000000</td>\n",
       "    </tr>\n",
       "    <tr>\n",
       "      <th>9</th>\n",
       "      <td>0.000000</td>\n",
       "    </tr>\n",
       "    <tr>\n",
       "      <th>10</th>\n",
       "      <td>0.006207</td>\n",
       "    </tr>\n",
       "    <tr>\n",
       "      <th>11</th>\n",
       "      <td>0.000000</td>\n",
       "    </tr>\n",
       "  </tbody>\n",
       "</table>\n",
       "<p>118 rows × 1 columns</p>\n",
       "</div>"
      ],
      "text/plain": [
       "                   0\n",
       "YEAR MONTH          \n",
       "2009 2      0.000000\n",
       "     3      0.007742\n",
       "     4      0.003000\n",
       "     5      0.006774\n",
       "     6      0.003704\n",
       "...              ...\n",
       "2018 7      0.000000\n",
       "     8      0.000000\n",
       "     9      0.000000\n",
       "     10     0.006207\n",
       "     11     0.000000\n",
       "\n",
       "[118 rows x 1 columns]"
      ]
     },
     "execution_count": 103,
     "metadata": {},
     "output_type": "execute_result"
    }
   ],
   "source": [
    "pt_stack = pd.DataFrame(pt.stack())\n",
    "pt_stack"
   ]
  },
  {
   "cell_type": "code",
   "execution_count": 114,
   "metadata": {},
   "outputs": [
    {
     "data": {
      "text/html": [
       "<div>\n",
       "<style scoped>\n",
       "    .dataframe tbody tr th:only-of-type {\n",
       "        vertical-align: middle;\n",
       "    }\n",
       "\n",
       "    .dataframe tbody tr th {\n",
       "        vertical-align: top;\n",
       "    }\n",
       "\n",
       "    .dataframe thead tr th {\n",
       "        text-align: left;\n",
       "    }\n",
       "\n",
       "    .dataframe thead tr:last-of-type th {\n",
       "        text-align: right;\n",
       "    }\n",
       "</style>\n",
       "<table border=\"1\" class=\"dataframe\">\n",
       "  <thead>\n",
       "    <tr>\n",
       "      <th></th>\n",
       "      <th colspan=\"12\" halign=\"left\">0</th>\n",
       "    </tr>\n",
       "    <tr>\n",
       "      <th>MONTH</th>\n",
       "      <th>1</th>\n",
       "      <th>2</th>\n",
       "      <th>3</th>\n",
       "      <th>4</th>\n",
       "      <th>5</th>\n",
       "      <th>6</th>\n",
       "      <th>7</th>\n",
       "      <th>8</th>\n",
       "      <th>9</th>\n",
       "      <th>10</th>\n",
       "      <th>11</th>\n",
       "      <th>12</th>\n",
       "    </tr>\n",
       "    <tr>\n",
       "      <th>YEAR</th>\n",
       "      <th></th>\n",
       "      <th></th>\n",
       "      <th></th>\n",
       "      <th></th>\n",
       "      <th></th>\n",
       "      <th></th>\n",
       "      <th></th>\n",
       "      <th></th>\n",
       "      <th></th>\n",
       "      <th></th>\n",
       "      <th></th>\n",
       "      <th></th>\n",
       "    </tr>\n",
       "  </thead>\n",
       "  <tbody>\n",
       "    <tr>\n",
       "      <th>2009</th>\n",
       "      <td>NaN</td>\n",
       "      <td>0.000000</td>\n",
       "      <td>0.007742</td>\n",
       "      <td>0.003000</td>\n",
       "      <td>0.006774</td>\n",
       "      <td>0.003704</td>\n",
       "      <td>0.000000</td>\n",
       "      <td>0.000323</td>\n",
       "      <td>0.001333</td>\n",
       "      <td>0.001290</td>\n",
       "      <td>0.011333</td>\n",
       "      <td>0.101613</td>\n",
       "    </tr>\n",
       "    <tr>\n",
       "      <th>2010</th>\n",
       "      <td>0.169677</td>\n",
       "      <td>0.088462</td>\n",
       "      <td>0.020000</td>\n",
       "      <td>0.064333</td>\n",
       "      <td>0.001935</td>\n",
       "      <td>0.002667</td>\n",
       "      <td>0.003548</td>\n",
       "      <td>0.000000</td>\n",
       "      <td>0.001923</td>\n",
       "      <td>0.080968</td>\n",
       "      <td>0.032333</td>\n",
       "      <td>0.214516</td>\n",
       "    </tr>\n",
       "    <tr>\n",
       "      <th>2011</th>\n",
       "      <td>0.027742</td>\n",
       "      <td>0.061538</td>\n",
       "      <td>0.022414</td>\n",
       "      <td>0.010000</td>\n",
       "      <td>0.025517</td>\n",
       "      <td>0.003000</td>\n",
       "      <td>0.000000</td>\n",
       "      <td>0.000000</td>\n",
       "      <td>0.001429</td>\n",
       "      <td>0.018065</td>\n",
       "      <td>0.108000</td>\n",
       "      <td>0.039032</td>\n",
       "    </tr>\n",
       "    <tr>\n",
       "      <th>2012</th>\n",
       "      <td>0.018065</td>\n",
       "      <td>0.057778</td>\n",
       "      <td>0.041613</td>\n",
       "      <td>0.053333</td>\n",
       "      <td>0.000645</td>\n",
       "      <td>0.001667</td>\n",
       "      <td>0.000323</td>\n",
       "      <td>0.001613</td>\n",
       "      <td>0.001333</td>\n",
       "      <td>0.042258</td>\n",
       "      <td>0.010000</td>\n",
       "      <td>0.121852</td>\n",
       "    </tr>\n",
       "    <tr>\n",
       "      <th>2013</th>\n",
       "      <td>0.047419</td>\n",
       "      <td>0.017143</td>\n",
       "      <td>0.038065</td>\n",
       "      <td>0.006000</td>\n",
       "      <td>0.016452</td>\n",
       "      <td>0.000333</td>\n",
       "      <td>0.001290</td>\n",
       "      <td>0.000323</td>\n",
       "      <td>0.000000</td>\n",
       "      <td>0.011613</td>\n",
       "      <td>0.002857</td>\n",
       "      <td>0.010000</td>\n",
       "    </tr>\n",
       "    <tr>\n",
       "      <th>2014</th>\n",
       "      <td>0.002258</td>\n",
       "      <td>0.037500</td>\n",
       "      <td>0.059032</td>\n",
       "      <td>0.018000</td>\n",
       "      <td>0.000000</td>\n",
       "      <td>0.000000</td>\n",
       "      <td>0.011290</td>\n",
       "      <td>0.006452</td>\n",
       "      <td>0.018000</td>\n",
       "      <td>0.000000</td>\n",
       "      <td>0.019333</td>\n",
       "      <td>0.105333</td>\n",
       "    </tr>\n",
       "    <tr>\n",
       "      <th>2015</th>\n",
       "      <td>0.016667</td>\n",
       "      <td>0.013571</td>\n",
       "      <td>0.032903</td>\n",
       "      <td>0.005333</td>\n",
       "      <td>0.040645</td>\n",
       "      <td>0.002000</td>\n",
       "      <td>0.044194</td>\n",
       "      <td>0.001290</td>\n",
       "      <td>0.035667</td>\n",
       "      <td>0.033226</td>\n",
       "      <td>0.067333</td>\n",
       "      <td>0.038710</td>\n",
       "    </tr>\n",
       "    <tr>\n",
       "      <th>2016</th>\n",
       "      <td>0.107419</td>\n",
       "      <td>0.015517</td>\n",
       "      <td>0.035161</td>\n",
       "      <td>0.018333</td>\n",
       "      <td>0.033226</td>\n",
       "      <td>0.000667</td>\n",
       "      <td>0.000000</td>\n",
       "      <td>0.000968</td>\n",
       "      <td>0.015667</td>\n",
       "      <td>0.004839</td>\n",
       "      <td>0.042667</td>\n",
       "      <td>0.150000</td>\n",
       "    </tr>\n",
       "    <tr>\n",
       "      <th>2017</th>\n",
       "      <td>0.160000</td>\n",
       "      <td>0.216429</td>\n",
       "      <td>0.008065</td>\n",
       "      <td>0.004667</td>\n",
       "      <td>0.036129</td>\n",
       "      <td>0.009667</td>\n",
       "      <td>0.000323</td>\n",
       "      <td>0.000968</td>\n",
       "      <td>0.000476</td>\n",
       "      <td>0.000000</td>\n",
       "      <td>0.005667</td>\n",
       "      <td>0.004516</td>\n",
       "    </tr>\n",
       "    <tr>\n",
       "      <th>2018</th>\n",
       "      <td>0.073548</td>\n",
       "      <td>0.013929</td>\n",
       "      <td>0.050968</td>\n",
       "      <td>0.002667</td>\n",
       "      <td>0.010645</td>\n",
       "      <td>0.000333</td>\n",
       "      <td>0.000000</td>\n",
       "      <td>0.000000</td>\n",
       "      <td>0.000000</td>\n",
       "      <td>0.006207</td>\n",
       "      <td>0.000000</td>\n",
       "      <td>NaN</td>\n",
       "    </tr>\n",
       "  </tbody>\n",
       "</table>\n",
       "</div>"
      ],
      "text/plain": [
       "              0                                                              \\\n",
       "MONTH        1         2         3         4         5         6         7    \n",
       "YEAR                                                                          \n",
       "2009        NaN  0.000000  0.007742  0.003000  0.006774  0.003704  0.000000   \n",
       "2010   0.169677  0.088462  0.020000  0.064333  0.001935  0.002667  0.003548   \n",
       "2011   0.027742  0.061538  0.022414  0.010000  0.025517  0.003000  0.000000   \n",
       "2012   0.018065  0.057778  0.041613  0.053333  0.000645  0.001667  0.000323   \n",
       "2013   0.047419  0.017143  0.038065  0.006000  0.016452  0.000333  0.001290   \n",
       "2014   0.002258  0.037500  0.059032  0.018000  0.000000  0.000000  0.011290   \n",
       "2015   0.016667  0.013571  0.032903  0.005333  0.040645  0.002000  0.044194   \n",
       "2016   0.107419  0.015517  0.035161  0.018333  0.033226  0.000667  0.000000   \n",
       "2017   0.160000  0.216429  0.008065  0.004667  0.036129  0.009667  0.000323   \n",
       "2018   0.073548  0.013929  0.050968  0.002667  0.010645  0.000333  0.000000   \n",
       "\n",
       "                                                         \n",
       "MONTH        8         9         10        11        12  \n",
       "YEAR                                                     \n",
       "2009   0.000323  0.001333  0.001290  0.011333  0.101613  \n",
       "2010   0.000000  0.001923  0.080968  0.032333  0.214516  \n",
       "2011   0.000000  0.001429  0.018065  0.108000  0.039032  \n",
       "2012   0.001613  0.001333  0.042258  0.010000  0.121852  \n",
       "2013   0.000323  0.000000  0.011613  0.002857  0.010000  \n",
       "2014   0.006452  0.018000  0.000000  0.019333  0.105333  \n",
       "2015   0.001290  0.035667  0.033226  0.067333  0.038710  \n",
       "2016   0.000968  0.015667  0.004839  0.042667  0.150000  \n",
       "2017   0.000968  0.000476  0.000000  0.005667  0.004516  \n",
       "2018   0.000000  0.000000  0.006207  0.000000       NaN  "
      ]
     },
     "execution_count": 114,
     "metadata": {},
     "output_type": "execute_result"
    }
   ],
   "source": [
    "pt_stack.unstack()"
   ]
  },
  {
   "cell_type": "markdown",
   "metadata": {},
   "source": [
    "the wettest december was in 2010"
   ]
  },
  {
   "cell_type": "code",
   "execution_count": null,
   "metadata": {},
   "outputs": [],
   "source": []
  }
 ],
 "metadata": {
  "kernelspec": {
   "display_name": "Python 3",
   "language": "python",
   "name": "python3"
  },
  "language_info": {
   "codemirror_mode": {
    "name": "ipython",
    "version": 3
   },
   "file_extension": ".py",
   "mimetype": "text/x-python",
   "name": "python",
   "nbconvert_exporter": "python",
   "pygments_lexer": "ipython3",
   "version": "3.7.6"
  }
 },
 "nbformat": 4,
 "nbformat_minor": 4
}
